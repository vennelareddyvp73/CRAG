{
 "cells": [
  {
   "cell_type": "markdown",
   "metadata": {
    "id": "Tzh2oxpmMeXq"
   },
   "source": [
    "## Installing Dependencies"
   ]
  },
  {
   "cell_type": "code",
   "execution_count": 1,
   "metadata": {
    "id": "0csifaRmMY-j"
   },
   "outputs": [],
   "source": [
    "%%capture --no-stderr\n",
    "%pip install langchain-opentutorial langchain_community pypdf faiss-cpu sentence_transformers langgraph langchain_huggingface langchain_core langsmith langchain"
   ]
  },
  {
   "cell_type": "code",
   "execution_count": 2,
   "metadata": {
    "colab": {
     "base_uri": "https://localhost:8080/"
    },
    "id": "EWAGv_FXetBF",
    "outputId": "5dbdda67-9c42-4254-cc84-abc930e45186"
   },
   "outputs": [
    {
     "name": "stdout",
     "output_type": "stream",
     "text": [
      "HF_TOKEN··········\n",
      "TAVILY_API_KEY··········\n",
      "LANGCHAIN_API_KEY··········\n",
      "LANGCHAIN_ENDPOINT··········\n"
     ]
    }
   ],
   "source": [
    "import getpass\n",
    "import os\n",
    "\n",
    "def _set_if_undefined(var :str) -> None:\n",
    "  if os.environ.get(var):\n",
    "    return\n",
    "  os.environ[var] = getpass.getpass(var)\n",
    "\n",
    "_set_if_undefined(\"HF_TOKEN\")\n",
    "_set_if_undefined(\"TAVILY_API_KEY\")\n",
    "_set_if_undefined(\"LANGCHAIN_API_KEY\")\n",
    "_set_if_undefined(\"LANGCHAIN_ENDPOINT\")"
   ]
  },
  {
   "cell_type": "code",
   "execution_count": 3,
   "metadata": {
    "id": "MK8AOkizPqXJ"
   },
   "outputs": [],
   "source": [
    "from langchain_huggingface import HuggingFaceEmbeddings\n",
    "from sentence_transformers import SentenceTransformer\n",
    "\n",
    "embedding_model = HuggingFaceEmbeddings(model_name =\"sentence-transformers/all-MiniLM-L6-v2\" )"
   ]
  },
  {
   "cell_type": "code",
   "execution_count": 4,
   "metadata": {
    "colab": {
     "base_uri": "https://localhost:8080/"
    },
    "id": "MUYhIgImNMXe",
    "outputId": "4facf638-201d-418a-878c-9039a5fd9389"
   },
   "outputs": [
    {
     "name": "stdout",
     "output_type": "stream",
     "text": [
      "Hello! It's nice to meet you. Is there something I can help you with or would you like to chat?\n"
     ]
    }
   ],
   "source": [
    "from langchain_huggingface import HuggingFaceEndpoint,ChatHuggingFace\n",
    "ll = HuggingFaceEndpoint(\n",
    "    repo_id=\"meta-llama/Llama-3.2-3B-Instruct\",\n",
    "    task=\"text-generation\",\n",
    "\n",
    ")\n",
    "model1 = ChatHuggingFace(llm=ll,temperature = 0)\n",
    "result = model1.invoke(\"hello?\")\n",
    "print(result.content)"
   ]
  },
  {
   "cell_type": "markdown",
   "metadata": {
    "id": "rily1hfBM-8O"
   },
   "source": [
    "## PDF-Retrieval chain"
   ]
  },
  {
   "cell_type": "code",
   "execution_count": 5,
   "metadata": {
    "id": "QgV1PMMpKD-z"
   },
   "outputs": [],
   "source": [
    "from langchain_community.document_loaders import PyPDFLoader\n",
    "from langchain_text_splitters import RecursiveCharacterTextSplitter\n",
    "from langchain_community.vectorstores import FAISS"
   ]
  },
  {
   "cell_type": "code",
   "execution_count": 6,
   "metadata": {
    "colab": {
     "base_uri": "https://localhost:8080/"
    },
    "id": "YVok0s4zKgwG",
    "outputId": "aa1d1e82-2dcb-4c0d-f131-f08d4a58fe3b"
   },
   "outputs": [
    {
     "name": "stdout",
     "output_type": "stream",
     "text": [
      "26\n",
      "369\n"
     ]
    }
   ],
   "source": [
    "loader = PyPDFLoader(\"/content/3 (1).pdf\")\n",
    "docs = loader.load()\n",
    "print(len(docs))\n",
    "\n",
    "splitter = RecursiveCharacterTextSplitter(\n",
    "    chunk_size =250,\n",
    "    chunk_overlap = 50\n",
    ")\n",
    "\n",
    "chunks = splitter.split_documents(docs)\n",
    "print(len(chunks))"
   ]
  },
  {
   "cell_type": "code",
   "execution_count": 7,
   "metadata": {
    "id": "WpuWOm6DVCNN"
   },
   "outputs": [],
   "source": [
    "vector_store = FAISS.from_documents(chunks, embedding_model)"
   ]
  },
  {
   "cell_type": "code",
   "execution_count": 8,
   "metadata": {
    "colab": {
     "base_uri": "https://localhost:8080/"
    },
    "id": "_dfrjYk3UzG1",
    "outputId": "22c4dec3-9d00-4fa1-a5c4-c8c5dcef0e98"
   },
   "outputs": [
    {
     "data": {
      "text/plain": [
       "{0: '2c5c34ff-1acc-4a97-aa13-0e7583abe5b8',\n",
       " 1: '8a69db06-f093-4ab4-94c1-636e8b1ca628',\n",
       " 2: 'a6966068-88a6-45b6-a409-a0a690d34d9f',\n",
       " 3: 'ecdc1497-9133-418a-a469-37bf14ad8b55',\n",
       " 4: '5fe65426-1fc8-4ef5-8551-385abc038171',\n",
       " 5: '29e6bea5-fe51-4ced-a655-658d38516eaa',\n",
       " 6: '2d5e7a38-b349-4d47-bd7d-7685e4ee2634',\n",
       " 7: 'b84e0071-7097-414b-b37a-a0ae91acf640',\n",
       " 8: '005e1be1-7521-459b-84fc-2119e50b4d2f',\n",
       " 9: '55ad45e3-e639-4afb-b043-073808f98293',\n",
       " 10: '82bf042e-f67e-4e19-b5c9-5bd9760a5f21',\n",
       " 11: '97198d13-f4f1-4adb-9faa-0ae2ebf19d83',\n",
       " 12: '19162d97-ea94-4adc-a20e-6f110a51ffce',\n",
       " 13: '4f655594-d9d9-45d8-a34f-8d8fc24fd325',\n",
       " 14: 'f6c35478-37f7-44b9-a8d9-0cc7c49df44f',\n",
       " 15: 'd22688f9-5332-4cad-9de8-105379ce1039',\n",
       " 16: 'f62a6f75-255f-4026-8b34-09fb240f3eb2',\n",
       " 17: '466a1b2b-9a9e-4026-ba50-a85d46fdeab3',\n",
       " 18: 'bc6a25d6-85d9-42f2-a7ad-d6d0286933b4',\n",
       " 19: '2363e9ef-a2b0-4fdb-9d4f-853bb907c30f',\n",
       " 20: 'abd3c889-1f3f-4a79-8875-1deeb30c0efb',\n",
       " 21: 'fd6f2656-b5f4-4d8b-8d74-cfd238dcf133',\n",
       " 22: '4d4e2867-029a-447f-9e37-eae770380099',\n",
       " 23: '9e79eae0-efcb-4c41-a322-9820b21fc00a',\n",
       " 24: 'ed38cccc-fdab-457e-b805-35682d86c389',\n",
       " 25: '24661afb-e32d-4c45-be8f-1607b2b2fe35',\n",
       " 26: '293b3d29-b404-43a5-b75a-d97b96232a5b',\n",
       " 27: 'baf85bb3-aa4f-4995-919f-ac5e5476785d',\n",
       " 28: '0e58c1b8-1f62-4dd4-8286-594fc1dd903f',\n",
       " 29: '23276145-5e1e-4195-854c-563bba8a5246',\n",
       " 30: 'd4e234f0-dbc2-4799-8a9d-022f6dc01474',\n",
       " 31: '8500a180-8adc-4479-a1da-0b03f2e8da4c',\n",
       " 32: '2ace7017-6470-4487-a6b8-d2c62332a67e',\n",
       " 33: '1690a73d-8a89-4204-85c8-5739288d320f',\n",
       " 34: 'efb4948b-62e8-4c0a-9b8a-d91210acbf99',\n",
       " 35: '0460b879-26c5-4400-9146-54e3ea7ff38e',\n",
       " 36: 'ed6c8ceb-ddc1-48e1-b08a-f0259bb66192',\n",
       " 37: '4ef565ea-fdf1-4ade-8bdb-49558bd0df2c',\n",
       " 38: '24f364f8-2e59-4bd3-a9a4-e34ffe2f6f86',\n",
       " 39: 'f90c8497-07c4-4f1e-8e3b-0311a5477f5d',\n",
       " 40: '7b079d2f-4263-4a88-af91-d392692b5b1d',\n",
       " 41: '841be712-d788-4549-be36-37d4b44fb1dc',\n",
       " 42: '5aba6ff9-acee-4360-b6b3-757b58b0b812',\n",
       " 43: '870f8777-45c0-4beb-9fdd-4f3c97ca68f2',\n",
       " 44: '99f3028a-ec0e-4e2b-abf7-4132a3992b5c',\n",
       " 45: '8c7f02de-c5f6-469a-9c47-d8f3063565ea',\n",
       " 46: 'd0efd51c-0648-4cc2-b724-ca9fb18feddb',\n",
       " 47: '8e5ce368-cca8-4ebe-9a38-eee146748304',\n",
       " 48: '401d04ba-e95b-4213-8c8c-92a6b4cc1fc3',\n",
       " 49: 'e408f34a-3a99-47f5-a154-5554cb70f7b1',\n",
       " 50: '5c2cb7c5-3cd1-4cd7-8473-ce8fde15c3b5',\n",
       " 51: 'dd1f1cc7-7786-4aee-aa08-c79ddcecc9f1',\n",
       " 52: 'bab7ce4f-d363-421c-96be-2e23ef9f7f70',\n",
       " 53: '670fbe2c-5d60-4223-a002-885ae142a7bc',\n",
       " 54: 'a619837f-e370-4d4d-b8ec-5eecf8c06e98',\n",
       " 55: '23dd3a35-2ac4-45af-a14d-4c8e86a7a00c',\n",
       " 56: 'da5f5e4d-252e-4303-bd62-07eea6e6c231',\n",
       " 57: 'a05d903f-dbcc-4a79-9837-6d3bf4741a39',\n",
       " 58: '58a18d34-5686-4600-9293-4c39f875e5ea',\n",
       " 59: '1d6fe5e3-7490-44ee-8aaf-7643b8c1ed18',\n",
       " 60: 'e2f9c2d0-bc68-41a8-9a8c-3f27b3b3e6ed',\n",
       " 61: '4e2d4b2a-5942-46f0-984e-8b3c38d6d707',\n",
       " 62: 'f04e1fe0-ff11-48be-9755-3fb3856be728',\n",
       " 63: '7ca5c872-34b5-4968-a61c-dc306222e351',\n",
       " 64: 'c215093f-7634-413b-9d85-35f04e6a75c5',\n",
       " 65: '45723e4e-01a6-4227-b98a-d074366ef3f6',\n",
       " 66: '2a5d57e9-95f8-4b9f-9a95-210ff72f3af9',\n",
       " 67: 'a57b1403-e057-4207-af2c-1483553d57d1',\n",
       " 68: '5eff459a-d3f0-4e62-878f-2501968e2409',\n",
       " 69: 'c9ee04ea-4c03-4651-b09a-f266381b7054',\n",
       " 70: 'ec3fdfab-01c9-4fd2-8339-da115f6bca8f',\n",
       " 71: 'f1e789da-9fa6-4900-acd6-341c5c8f7f1e',\n",
       " 72: '9cf010dd-82c6-436c-93a8-09dc75f1bec7',\n",
       " 73: 'b0e12f2f-fe0b-4fa5-a91c-71991cc24977',\n",
       " 74: 'f67179f9-f0cc-4588-8bd3-71c7f07e5878',\n",
       " 75: 'c47d69a6-f57f-41d7-a707-90f250316df4',\n",
       " 76: '17666f8d-b94c-4115-be58-c8f2d31261a1',\n",
       " 77: 'ea9cc994-a8cb-45e4-ab77-e7f795561c64',\n",
       " 78: '27232c6d-17b5-461c-8e65-05defe2d7e32',\n",
       " 79: '257ba3e7-a112-46c3-bfa2-691fdbcff19b',\n",
       " 80: 'd653a618-8c41-4424-928e-1a97eca85712',\n",
       " 81: 'ca813451-3e12-46f5-bbc9-107d03ca0edf',\n",
       " 82: '963f6596-2479-4fd5-8ffd-f28289e6a381',\n",
       " 83: '701e8b52-1579-420a-b790-62ea8596bb11',\n",
       " 84: '4f5f7e00-95f2-4c87-82d4-42384a5bc39c',\n",
       " 85: '95670d15-0d76-4f6a-95ac-430543c236d6',\n",
       " 86: '4e2ae11e-7164-462a-a641-9c8cebc92e2f',\n",
       " 87: 'c70658c4-7167-4689-bad8-1685e88d9106',\n",
       " 88: '337740bd-6390-4d49-b69d-4a1d1e80589e',\n",
       " 89: '3f1b9229-5c5b-48d2-b7c2-9a421dbb32b8',\n",
       " 90: '1267ee1c-dd32-4260-9c83-acf29e3c3f60',\n",
       " 91: '18dc8571-972a-4467-970d-126b8bd094df',\n",
       " 92: '2cc87091-6cac-435f-a29a-1503effeb5cb',\n",
       " 93: '48f4a6b4-b783-473a-a510-4e6bede8cf41',\n",
       " 94: 'ef9c3be5-e41c-428d-87da-c2d1d4cc12fc',\n",
       " 95: 'bd50af93-09bd-41f1-baf5-4f43312b25ab',\n",
       " 96: '9ba2b1e9-5655-446a-8704-f712c4c61ddd',\n",
       " 97: '1324f727-71fb-4214-a890-7cda74eeb344',\n",
       " 98: '9cf10bcb-8002-4599-aaf7-2bfd9408cdd9',\n",
       " 99: '7db3aca9-7329-45a0-bd17-ebc4150ec600',\n",
       " 100: '886d60a0-760c-4dca-8756-1976b79aa39e',\n",
       " 101: 'c62b35eb-da5f-4b4e-a16c-2ab0186cb5d4',\n",
       " 102: '42644943-34ae-4f22-b8b5-f9bd8c3a8939',\n",
       " 103: '31146af3-9e64-4f88-b28c-2e4e830730b1',\n",
       " 104: '311bfac4-0e78-48a0-9327-3c51dd9a4d23',\n",
       " 105: '3a6ef36f-1319-4d1a-bcce-e69ff6110fec',\n",
       " 106: 'ba1c5191-baa5-45d9-af97-e08146d12c2a',\n",
       " 107: '7ae5d62e-53e3-4dcd-9322-b3d81408271e',\n",
       " 108: 'af46cfb3-283f-42b6-b64b-7adf1992cdb7',\n",
       " 109: 'f8388608-de28-4106-b264-63ca38f66ee7',\n",
       " 110: 'c9cac5c3-56a0-43ed-acfc-9ef8f69a28c8',\n",
       " 111: 'fea9bcff-62c3-4e45-a93d-d8748322a343',\n",
       " 112: '6c72b13c-a0b6-43db-8dfa-8b91ee8148a2',\n",
       " 113: 'c40e6e01-9bb9-4301-a63e-2f191540534b',\n",
       " 114: 'b1af06c4-8a64-4d04-a272-61fb58b5cdeb',\n",
       " 115: '22e948ac-0d3a-40b9-9cb8-99a5489585b7',\n",
       " 116: 'b5174a88-a544-4681-9780-eefba1434ce1',\n",
       " 117: 'e4821e81-90d8-415d-a766-d1b596809403',\n",
       " 118: '67623fd4-f159-4479-b133-be60c60f7726',\n",
       " 119: '0a4040a3-b8c5-4e4e-b7e1-46caff946335',\n",
       " 120: '5b14c1d3-4509-47f7-be59-bcd4e1dc67d8',\n",
       " 121: 'da899f99-4ca3-4bed-8422-5a98925d2fa9',\n",
       " 122: '7a16794b-cbab-4fe7-8ef3-97847fe3d513',\n",
       " 123: '18d12a31-1004-442a-be36-14f1a298e8e3',\n",
       " 124: 'a453089d-be52-4f27-af8b-a4326bffa6ce',\n",
       " 125: 'bb6416a8-2014-41b8-8ad2-3b746e58cf1d',\n",
       " 126: '021a709e-583e-44bf-b1d1-6a13ad3a3ceb',\n",
       " 127: '60fdb378-a771-4b6e-ad54-148c4e9e4d92',\n",
       " 128: 'f29ca96e-d683-4ad5-b63c-face69b9112f',\n",
       " 129: '6442a02e-b3ec-40b3-839c-ee0a78ba9dfd',\n",
       " 130: 'b529fd53-4740-4d2a-b579-8365da3e81b3',\n",
       " 131: '191e13d1-6885-4447-9a49-b77a3e010db5',\n",
       " 132: '8f205bcd-af0c-41b0-a95c-9b08b60ba736',\n",
       " 133: '0feb01ca-9582-4f06-ae3a-c3187dd7c37e',\n",
       " 134: '208405b1-fcc7-47ab-b0b7-7d48e6cb2890',\n",
       " 135: '8eda8eb4-f26c-4ecf-8f5b-e7e14f3ba99b',\n",
       " 136: '239bb131-0b3a-417f-a312-854f5f4a0288',\n",
       " 137: 'a7a7ae88-bade-4d55-bc57-e655b2a6ce9b',\n",
       " 138: 'a312211a-3234-4613-b745-ac7d33b123ca',\n",
       " 139: '4adb909e-db1a-498c-ba54-f15dce09e77f',\n",
       " 140: 'eee53884-ad2f-4ebc-a5d8-d5c1f2d73127',\n",
       " 141: 'c418a05f-1bae-4ef0-87dc-0393f7a0b98a',\n",
       " 142: '93cf0ce2-cae3-44b9-b5f5-28603275ffbc',\n",
       " 143: 'd61cb723-7ed0-4558-830a-6f2c9c6ddb9f',\n",
       " 144: '0317b5c1-2474-420b-bda3-30e638d0a50e',\n",
       " 145: 'cda298e5-72e7-4d34-9e79-09eb444bcda4',\n",
       " 146: '7abf1882-ad9b-478a-895e-f360853e20e5',\n",
       " 147: '386e9619-bdb8-4939-a8f7-be0c1ef8cdf0',\n",
       " 148: 'f56f3808-b3e6-47f1-8799-54f41bb822f6',\n",
       " 149: '95e2ef13-c637-4ab3-b589-2f817895cf92',\n",
       " 150: 'a93d32dc-7ccf-4e88-b61a-e5fc07f89bf8',\n",
       " 151: '6c101c2b-b6ca-435b-857c-4f704e348a9d',\n",
       " 152: '4b3f2bca-790f-43cc-8973-7d030f183a20',\n",
       " 153: '4c2a902b-ab47-4db2-85f7-b2afe24bee4b',\n",
       " 154: 'b04ec150-49a0-47ff-9571-e19991452801',\n",
       " 155: '91658e78-8841-4140-88a6-13f6c8addb58',\n",
       " 156: '500db197-a914-407d-94c4-fd18ec59e8d3',\n",
       " 157: '733acf8c-e625-44c5-ac8e-e5b588591026',\n",
       " 158: '7cf9008d-5220-459e-9820-48b7109ae19f',\n",
       " 159: 'fddc13d3-689c-45fe-9657-f0f189054e42',\n",
       " 160: 'b2e9554a-9ae6-4f4b-b45b-036cca647b4e',\n",
       " 161: '3a40409f-90d7-4857-8246-ba91f720a51d',\n",
       " 162: 'bbc7e034-bc14-4d57-8a97-10f58e1f27ae',\n",
       " 163: 'ea935bc3-71fb-4201-8680-553b5c5437bc',\n",
       " 164: '78ce6a85-4749-46b3-ba4e-5bfcaa6a867b',\n",
       " 165: '9ca8f3e5-c182-45c8-ba35-bbe4eba642fb',\n",
       " 166: '847dc263-b5dd-4c8f-bfcc-962f63870f81',\n",
       " 167: '23038bf8-a219-4bb8-98e5-542cb29f5c83',\n",
       " 168: 'b6414fa3-7ba9-487d-bad6-f6d22b91f17c',\n",
       " 169: '1c832343-e7ee-414a-aaec-b9c7d4b69ce1',\n",
       " 170: 'c5df89fe-c604-4254-ac51-4b64a815fc21',\n",
       " 171: '48db3cca-ff7f-4f30-969b-38d4de5d5689',\n",
       " 172: '2e80e0d8-2244-43c1-b4eb-c75b949518ac',\n",
       " 173: 'ce53c3b2-ec23-4965-a5a5-8b919dc3fd20',\n",
       " 174: 'c7b7da8a-e3f8-49b1-bd7b-de0cd6f31873',\n",
       " 175: '7c536a2f-0477-4452-9d0f-87510c695106',\n",
       " 176: 'e7385778-cec2-4061-a555-84ebca6acf18',\n",
       " 177: '2137b28e-5daf-4f9c-ab22-d63efa69f8e0',\n",
       " 178: 'd67aec65-674e-4523-b786-7a2ca9a1b71b',\n",
       " 179: 'f91874d6-d6f9-474e-803e-badbc30cc942',\n",
       " 180: 'fa7ee001-4d38-4866-b0bd-57c85a9053bd',\n",
       " 181: '51593e82-cc21-468c-a08a-c8ad889edb1f',\n",
       " 182: '2dc921d1-2349-4d7f-84bf-4c5938119eff',\n",
       " 183: 'a7cc0464-964d-4b63-9aa3-76e9298453ba',\n",
       " 184: '655e19f5-07ef-4942-a54c-bc5155f57bfb',\n",
       " 185: 'a6fff959-b3cd-4cd7-ab67-c9aaca6c3f7e',\n",
       " 186: '098f108a-e532-4961-8450-13f6cb35fa0c',\n",
       " 187: 'eea05863-c2ae-4a2d-9210-72db13c7ab5a',\n",
       " 188: '2d3c68aa-184f-4f1c-8c3d-2bae43356abb',\n",
       " 189: '67f3b84a-577e-411e-9ae3-d45c55c7fd5c',\n",
       " 190: 'aae708ac-0ebd-4da1-b593-5cb9525b6733',\n",
       " 191: 'b581e285-f2b7-46c2-b3bd-116149c39435',\n",
       " 192: '372703f7-59a5-4334-82d0-490210729d78',\n",
       " 193: '72cb3ff0-4e2f-4446-a9ef-6b25a9e19d1b',\n",
       " 194: '1dd2a90c-3973-4b7d-b554-dc63ae232d9f',\n",
       " 195: '14928b9b-59a7-4fca-a88e-3e75b6eb8ef5',\n",
       " 196: '17592b52-0a33-4617-aaf0-263810517edb',\n",
       " 197: 'd5d81d0e-b143-4a9e-8914-c089d92e2653',\n",
       " 198: 'b6424729-6c98-4010-9390-c711b71536a9',\n",
       " 199: 'd47b0e60-4c67-4ab6-b9cb-637c574af97a',\n",
       " 200: '335a0b82-3512-403e-8382-86b663e12349',\n",
       " 201: '53fd695a-fb40-438d-9e9a-5979d3395440',\n",
       " 202: 'cf35d216-8a47-40c7-be19-7481954905ee',\n",
       " 203: '27e4079e-c8af-4759-993e-c4e90e36d1b5',\n",
       " 204: '8514f18b-98ef-481f-b1ee-7e2ca87a1f7a',\n",
       " 205: '2e0d3238-33eb-4f35-a421-946a18796da8',\n",
       " 206: '0471d691-7621-41a8-ad92-f6e9cfb264c6',\n",
       " 207: 'afdd6ac0-18a3-4e9b-827b-959df6781723',\n",
       " 208: '50d80ded-af21-4581-ae1e-e837eb8b20df',\n",
       " 209: '1beffd56-fd1f-4a1a-98db-2ee4d1c21a11',\n",
       " 210: '09d88f59-0544-49f9-8816-384a8433dcef',\n",
       " 211: '3edb93cb-8ba4-40c9-a874-5d85f5e41fd7',\n",
       " 212: '73a40cfe-a822-476d-b221-eb06badf6968',\n",
       " 213: '4c03cbf7-b31e-4250-b86f-aace37c00774',\n",
       " 214: '8725211f-436f-4899-b94f-0593ab514ad5',\n",
       " 215: '31ed173e-0dfb-4416-ad96-8f6dc03753db',\n",
       " 216: 'f7d26b24-d95a-4c14-817a-e0928ee4183d',\n",
       " 217: '6803e9ac-4281-4a46-9a36-b01fa849dcf5',\n",
       " 218: '9d751da8-ac88-45c9-8c6e-ff1754d3ff9b',\n",
       " 219: '5f1bde59-91df-4db4-a5dc-a0ce6e17651d',\n",
       " 220: '185a05a6-9c97-4c13-8ea2-03ef8920cbb0',\n",
       " 221: 'cffb2e86-46ef-4380-929f-c5238aff7faa',\n",
       " 222: 'cda8032b-998c-43e4-b542-7021df1da779',\n",
       " 223: 'ee433029-0b25-4dfa-957b-89d6e46ff2fc',\n",
       " 224: '7b73c72a-8a7c-45c9-8d3c-c4712209553f',\n",
       " 225: '28f8bd80-fac7-426d-8328-eb3d5fa5db7b',\n",
       " 226: '9b5514fc-1d23-4d39-bd4c-2136c2b06e82',\n",
       " 227: '82aac9b0-8b05-4255-a712-42958baef373',\n",
       " 228: '1391feb8-a3a5-4cef-bc04-264f3a3b7903',\n",
       " 229: '41120942-f719-4be2-8d6a-f4ef8ad5ba57',\n",
       " 230: '88e6646f-1677-4ccd-ae84-d24ad781a83f',\n",
       " 231: '2764c8c0-4263-4c41-ae48-e2e5d6e67990',\n",
       " 232: 'b41cea7e-9faa-49ae-b8de-396f674ec58c',\n",
       " 233: 'daf7cc95-137a-469a-8d31-675370a8f905',\n",
       " 234: '973f619f-c487-4a9b-adb1-6e3a75a88e17',\n",
       " 235: 'da42366b-0294-417c-911f-553693a6e35e',\n",
       " 236: '2ec9a0a3-6c9c-40b3-91a3-4f493ad829cd',\n",
       " 237: 'a8836929-6250-490c-9e1a-13d445518ee1',\n",
       " 238: '44df9ba0-7c7f-41f1-9540-ea6bd0d45825',\n",
       " 239: 'e190bdc9-bcd9-4afb-9ead-671b4300afa5',\n",
       " 240: 'da964954-518b-463b-8c04-edeb3bc23dd5',\n",
       " 241: 'e3f6bf20-f796-4c0a-b2a5-695e93bbb028',\n",
       " 242: 'ce74479f-e5ea-4fb9-8be5-f53891f25ca3',\n",
       " 243: 'd7a9ea75-c0d9-401f-a720-8fa0234ad2fb',\n",
       " 244: 'b57b5e42-aa85-44b8-adcc-38cb7ec57d83',\n",
       " 245: '65a829ec-070f-45dd-a66e-a8cde4b0720e',\n",
       " 246: 'de2e9eaa-3f76-4236-9827-ff4067b094f0',\n",
       " 247: 'daca56fb-78f5-4a69-8703-46f9563f82a4',\n",
       " 248: '1268e7d1-1e2a-49b4-a5da-d4deacd9ac5a',\n",
       " 249: 'ca62c490-76fe-4590-8e79-f3a1c8e70482',\n",
       " 250: '49695fd6-6f54-49e8-8d6b-264faf7617cc',\n",
       " 251: '8e00d647-93c3-496a-a54a-dac04539a230',\n",
       " 252: '318db91e-4d63-42a0-a0f4-071821141fef',\n",
       " 253: '555e882b-0be9-4215-a345-7b3bfaaef3e9',\n",
       " 254: '281114bd-7723-4466-930a-f92c7a8ebd02',\n",
       " 255: '847a382c-da2b-451f-8163-55cb817ab5a9',\n",
       " 256: 'ba453692-40aa-4e60-9311-852e7311ade3',\n",
       " 257: 'e6f6ba96-ea01-479f-8423-733055c7e58b',\n",
       " 258: 'b24e5a3b-befe-44ff-be9a-3ecd3afcd093',\n",
       " 259: '9f936e4c-5ca2-422f-a5d5-753166a456d9',\n",
       " 260: 'a02a92e4-0af3-401d-93c0-2e3d4bf48733',\n",
       " 261: '6edc6dae-d20a-4685-86a0-a7a3413af540',\n",
       " 262: '4affbc28-ab5b-4bc5-8df9-3292b529d59f',\n",
       " 263: '3d02ffb0-92d9-480e-a9cb-0b5ba0cbf6b9',\n",
       " 264: '6d10778a-f6de-492b-a458-ce2d6e84ae77',\n",
       " 265: 'e6a268e3-232e-4f3b-b62f-e9a26bc8c6bf',\n",
       " 266: 'cae9f5d1-360b-4bdc-90c9-bbbb089224e8',\n",
       " 267: '8b674b33-4c8e-4ac5-884b-144b3c34a778',\n",
       " 268: 'add09350-9a17-4fa6-bd60-43740aa89286',\n",
       " 269: 'c87d73af-9a47-4f18-b712-f10c0be62943',\n",
       " 270: '0d76b936-0ebd-40d9-be1d-5eb3794153bd',\n",
       " 271: 'e52aec2c-f2ed-4bd8-860f-32ebfa07cfd2',\n",
       " 272: 'd0ce994f-fa40-4434-b5a1-968acdc3d5fc',\n",
       " 273: 'b7f7a996-9fd5-4be3-8d75-9c068e74f3f3',\n",
       " 274: '9f7b755f-06b8-4c8c-a3f7-43669626d24e',\n",
       " 275: '04b2e5ad-8b3a-44e4-a9d9-f5079859cc98',\n",
       " 276: '011e239f-4e2f-4029-a812-37090418e9b2',\n",
       " 277: 'a080a5ed-d685-463d-afce-bf03f021609b',\n",
       " 278: 'f2ffa57a-d07d-4716-b353-2fb3b7b72d25',\n",
       " 279: '921148f0-0063-41bd-8bda-cd79b6a61faa',\n",
       " 280: '62edee3d-babc-43d1-b536-f57ff618e9ff',\n",
       " 281: '9ce249c8-da93-494c-9157-2ee0cc271a5b',\n",
       " 282: '3adae652-1b6c-445e-a9b0-c29caf4fb5bf',\n",
       " 283: '0711a7f1-73b0-43a9-9bfa-0b352e251e1d',\n",
       " 284: 'f9ebf3f0-fb84-4304-a6a6-d6d6a5007dee',\n",
       " 285: '4bb8bbf1-189e-4ef4-962c-a3bde0843a79',\n",
       " 286: '7ea6ed15-5fe1-4550-ba93-e9e6e4b7fa36',\n",
       " 287: '15e1d6e2-f064-493d-9d94-221946873de5',\n",
       " 288: 'ca7bc9b5-5a77-4a4b-ac7c-1a2a3a93edf4',\n",
       " 289: 'f7b1fae0-034b-44ea-9074-5533ba258b49',\n",
       " 290: '0071e29d-25b9-407e-843e-d432eae577b4',\n",
       " 291: 'f54e7cbe-2d92-4b44-8866-a57cd7b9b8fe',\n",
       " 292: '0adb6d87-676c-4d7f-b46f-6758d4912059',\n",
       " 293: '0846f109-be05-4d73-b5c8-2a38404b0248',\n",
       " 294: 'ea3fb08d-ac95-48fc-83cf-0cb673c66cf4',\n",
       " 295: '133b9679-4f55-4b76-bdec-f7341399a27f',\n",
       " 296: '6bcfb4cd-c2f8-41a6-946d-7e13caad966c',\n",
       " 297: '31a3ba35-be11-4810-80d5-4eb4a21f85ad',\n",
       " 298: '2ce93607-1404-47d2-9a3b-7b583394e2a3',\n",
       " 299: '19f93a54-48fc-41c9-94c0-aa8771c9fbcf',\n",
       " 300: '6861740a-acce-4a92-94ef-d5458be28376',\n",
       " 301: '588c5119-5f5c-4ece-ae05-5a16d0ada0dd',\n",
       " 302: '2989e986-cffe-47de-aab2-0ff0b80d3fbc',\n",
       " 303: 'efc5ed40-600c-4929-936f-83d57f8950f6',\n",
       " 304: 'd1c106b6-c348-4f04-aed4-200a3e337be1',\n",
       " 305: 'cb38d38c-eee5-48d1-b200-2916c9ca78f7',\n",
       " 306: '079d22ed-1803-4c5e-a77a-c91af4c48775',\n",
       " 307: '5526c9b0-a21b-407e-80e6-3243334a1e33',\n",
       " 308: 'eb696b73-f957-47a8-aadd-1dcf6b017f5a',\n",
       " 309: '02751582-b59a-4bcb-8acd-43179fe811ea',\n",
       " 310: 'a2119401-8c0e-4304-9a2d-bdabe3f2e88b',\n",
       " 311: '01f99746-cfb2-4cc5-8fad-ed5762a6e5f6',\n",
       " 312: '6d91e8b3-c85d-4656-9851-5196d92e0c45',\n",
       " 313: 'ff414121-3b79-4095-9ddf-4303aa0e46c9',\n",
       " 314: '1a6f5f44-a5f9-47d3-826a-4f6c6c2aa3a9',\n",
       " 315: 'ffc3ddd8-4a23-42d8-8272-2c0a70f2fbe5',\n",
       " 316: 'eb29a69a-42e2-4027-b690-9c764b1c352f',\n",
       " 317: '071b9a02-6b10-4d0d-8a77-18f89ab4970b',\n",
       " 318: 'f762ce19-db20-4e33-b593-1cffa7312e85',\n",
       " 319: '4bc59867-3f86-4f00-932a-83b13e706f5c',\n",
       " 320: '70a28d9c-4930-4d05-922d-d0fc2c9f3992',\n",
       " 321: '1b1654bc-6988-42af-a47a-5cd1ded68f3f',\n",
       " 322: '6673530b-e5dc-4319-bd22-d74f949eccf2',\n",
       " 323: '44781457-6021-4057-9f9d-c8a8c1cbc28b',\n",
       " 324: '30a81e51-a86a-42df-aab3-81ff7f345c83',\n",
       " 325: '7d197dc7-c2a7-4270-8215-cca49528e84a',\n",
       " 326: '3d4868c2-c893-4cad-b493-6a38822279b3',\n",
       " 327: 'd56730bf-f114-4c42-99b1-9d4bc1d73471',\n",
       " 328: 'b94e7e41-dee1-421f-9496-7ee7688e4a47',\n",
       " 329: 'f96c2e46-8f2f-4765-87ae-e8a0ad20c3b3',\n",
       " 330: 'f89620f6-3323-40e5-b5f7-372529fb7d2a',\n",
       " 331: '341f0169-88f5-4975-a52e-c0cba163ba0e',\n",
       " 332: '65a255df-be63-4ed6-8e89-7b2e18927f93',\n",
       " 333: '105b2f5a-5fbb-4f42-94da-834db8b54710',\n",
       " 334: '222faa7d-b30a-487f-aa05-ddde77c7f4f7',\n",
       " 335: 'ba9eff3a-cf65-4322-803b-9a8889206f77',\n",
       " 336: 'dffd2702-b823-4adb-aa84-057876ab0795',\n",
       " 337: '585d9fa2-5f6d-4752-a243-2b62b2e89610',\n",
       " 338: '6b4d5452-f770-48b5-9623-47ed53d929d6',\n",
       " 339: '6decc042-2b25-4e9d-9aff-05c732a0c6e8',\n",
       " 340: '2036ac62-fb1e-4592-9e53-7f0d8f5e54bc',\n",
       " 341: 'ce85012f-45fd-4b69-a23a-113ad635dcf6',\n",
       " 342: '50327efe-c102-48f4-abc7-fc14f4d26a91',\n",
       " 343: 'a5c9cd86-64c1-454c-bce1-9b834ed66ea0',\n",
       " 344: '71f4dd0f-6516-4ccd-bcd8-00caa66e84d2',\n",
       " 345: '83eb570a-7cd8-497e-9950-1f0671cf3f3c',\n",
       " 346: 'bc83bb85-1221-4de3-af70-c2d372ef46b2',\n",
       " 347: '8dcdc863-6cdd-4202-aa83-fb18de1ada0e',\n",
       " 348: '9a0deb85-8944-4a2e-8a05-0273dbac4e13',\n",
       " 349: 'bd543124-5e21-4fa9-bfe8-a51a9c534d7b',\n",
       " 350: 'befd208f-26ff-4ec8-a909-c6989a0a835d',\n",
       " 351: '75261c1c-b9a5-46e2-831b-d52ccb3d76e6',\n",
       " 352: '5bc775f1-fe84-426a-82dc-699718edd8af',\n",
       " 353: '06df5840-11f9-4933-b69f-a6b24afdb6ac',\n",
       " 354: 'b62eb823-caf4-4a76-947d-f40567722130',\n",
       " 355: '41896130-2d98-4fe7-bf1e-1766623d8f9b',\n",
       " 356: '6241b119-8749-4611-b354-a102ef4380c1',\n",
       " 357: '34e422cf-7d79-447f-ab81-a939987a7678',\n",
       " 358: 'ca27eda2-8fec-4613-87a2-e84e6f197cd7',\n",
       " 359: 'df859e23-391a-40af-a8f4-e0f2989ffd14',\n",
       " 360: 'a6f498c4-5eba-4cbc-b543-8e3c2b486456',\n",
       " 361: '501a9fbf-6ae0-47f3-afd6-6d5970f3e61f',\n",
       " 362: '66c4fb18-b420-4bff-b4cf-1d7b4ee8ed97',\n",
       " 363: '736a7800-192e-4a47-b4f9-18bc79c7e014',\n",
       " 364: '8094abf6-ddb0-4795-bfec-eb87823297b4',\n",
       " 365: 'e621eb73-9187-42e1-adc7-664b9e09662e',\n",
       " 366: '5babcaba-faea-4aa9-9751-aba17c1c04ee',\n",
       " 367: '8b91a9d7-aee3-4e2a-8635-1a0850fed34b',\n",
       " 368: '436a58e2-4162-4829-a401-75b91212295e'}"
      ]
     },
     "execution_count": 8,
     "metadata": {},
     "output_type": "execute_result"
    }
   ],
   "source": [
    "vector_store.index_to_docstore_id"
   ]
  },
  {
   "cell_type": "code",
   "execution_count": 9,
   "metadata": {
    "colab": {
     "base_uri": "https://localhost:8080/"
    },
    "id": "bvteE3o9Zg7w",
    "outputId": "1e5657d8-49fd-48ae-a21b-14efe512a232"
   },
   "outputs": [
    {
     "data": {
      "text/plain": [
       "[Document(id='8b91a9d7-aee3-4e2a-8635-1a0850fed34b', metadata={'producer': 'pdfTeX-1.40.21', 'creator': 'LaTeX with hyperref', 'creationdate': '2025-01-12T12:07:23-08:00', 'author': '', 'title': '', 'subject': '', 'keywords': '', 'moddate': '2025-01-12T12:07:23-08:00', 'trapped': '/False', 'ptex.fullbanner': 'This is pdfTeX, Version 3.14159265-2.6-1.40.21 (TeX Live 2020) kpathsea version 6.3.2', 'source': '/content/3 (1).pdf', 'total_pages': 26, 'page': 25, 'page_label': '26'}, page_content='26 Chapter 3 • N-gram Language Models\\nStolcke, A. 2002. SRILM – an extensible language modeling\\ntoolkit. ICSLP.\\nTrnka, K., D. Yarrington, J. McCaw, K. F. McCoy, and\\nC. Pennington. 2007. The effects of word prediction on')]"
      ]
     },
     "execution_count": 9,
     "metadata": {},
     "output_type": "execute_result"
    }
   ],
   "source": [
    "vector_store.get_by_ids(['8b91a9d7-aee3-4e2a-8635-1a0850fed34b'])"
   ]
  },
  {
   "cell_type": "code",
   "execution_count": 10,
   "metadata": {
    "id": "Ld65Y0KwYYqX"
   },
   "outputs": [],
   "source": [
    "retriever = vector_store.as_retriever(search_type=\"similarity\", search_kwargs={\"k\": 2})"
   ]
  },
  {
   "cell_type": "code",
   "execution_count": 11,
   "metadata": {
    "id": "xy-csOmZhfJW"
   },
   "outputs": [],
   "source": [
    "question = \"what is bigram?\""
   ]
  },
  {
   "cell_type": "code",
   "execution_count": 12,
   "metadata": {
    "colab": {
     "base_uri": "https://localhost:8080/"
    },
    "id": "JAFVn0FSYT8_",
    "outputId": "c6562844-c34c-4580-be71-a974960c8d59"
   },
   "outputs": [
    {
     "name": "stdout",
     "output_type": "stream",
     "text": [
      "[Document(id='0460b879-26c5-4400-9146-54e3ea7ff38e', metadata={'producer': 'pdfTeX-1.40.21', 'creator': 'LaTeX with hyperref', 'creationdate': '2025-01-12T12:07:23-08:00', 'author': '', 'title': '', 'subject': '', 'keywords': '', 'moddate': '2025-01-12T12:07:23-08:00', 'trapped': '/False', 'ptex.fullbanner': 'This is pdfTeX, Version 3.14159265-2.6-1.40.21 (TeX Live 2020) kpathsea version 6.3.2', 'source': '/content/3 (1).pdf', 'total_pages': 26, 'page': 2, 'page_label': '3'}, page_content='words.\\nThe bigram model, for example, approximates the probability of a word givenbigram\\nall the previous words P(wn|w1:n−1) by using only the conditional probability given'), Document(id='f6c35478-37f7-44b9-a8d9-0cc7c49df44f', metadata={'producer': 'pdfTeX-1.40.21', 'creator': 'LaTeX with hyperref', 'creationdate': '2025-01-12T12:07:23-08:00', 'author': '', 'title': '', 'subject': '', 'keywords': '', 'moddate': '2025-01-12T12:07:23-08:00', 'trapped': '/False', 'ptex.fullbanner': 'This is pdfTeX, Version 3.14159265-2.6-1.40.21 (TeX Live 2020) kpathsea version 6.3.2', 'source': '/content/3 (1).pdf', 'total_pages': 26, 'page': 1, 'page_label': '2'}, page_content='2 CHAPTER 3 • N- GRAM LANGUAGE MODELS\\nlanguage model. An n-gram is a sequence of n words: a 2-gram (which we’ll call\\nbigram) is a two-word sequence of words like The water, or water of, and a 3-')]\n"
     ]
    }
   ],
   "source": [
    "docs = retriever.invoke('what is bigram ?')\n",
    "print(docs)"
   ]
  },
  {
   "cell_type": "markdown",
   "metadata": {
    "id": "O_e5nlfVZ--b"
   },
   "source": [
    "## Relevance Evaluation of Retrieved Documents"
   ]
  },
  {
   "cell_type": "code",
   "execution_count": 13,
   "metadata": {
    "colab": {
     "base_uri": "https://localhost:8080/"
    },
    "id": "5oj5w5Zndgnj",
    "outputId": "c78c5eb1-182d-4c6d-be91-78ff6eca86f1"
   },
   "outputs": [
    {
     "name": "stdout",
     "output_type": "stream",
     "text": [
      "yes\n"
     ]
    }
   ],
   "source": [
    "from langchain_core.prompts import ChatPromptTemplate\n",
    "from langchain_core.output_parsers import StrOutputParser\n",
    "\n",
    "\n",
    "system_prompt = \"\"\"\n",
    "You are a grader assessing whether a retrieved document is relevant to a user question.\n",
    "If the document has content that matches or semantically relates to the question, say \"yes\".\n",
    "If not, say \"no\".\n",
    "Reply with only \"yes\" or \"no\" — nothing else.\n",
    "\"\"\"\n",
    "\n",
    "grade_prompt = ChatPromptTemplate.from_messages([\n",
    "    (\"system\", system_prompt),\n",
    "    (\"human\", \"Retrieved document:\\n\\n{document}\\n\\nUser question: {question}\"),\n",
    "])\n",
    "\n",
    "retrieval_grader_chain = grade_prompt | model1 | StrOutputParser()\n",
    "\n",
    "output = retrieval_grader_chain.invoke({\"document\": docs, \"question\": question})\n",
    "print(output)\n"
   ]
  },
  {
   "cell_type": "markdown",
   "metadata": {
    "id": "D1SLBYUR1Yzq"
   },
   "source": [
    "## Answer Generation Chain"
   ]
  },
  {
   "cell_type": "code",
   "execution_count": 14,
   "metadata": {
    "id": "65ASO7-iiXF2"
   },
   "outputs": [],
   "source": [
    "from langchain import hub\n",
    "\n",
    "prompt = hub.pull(\"rlm/rag-prompt\")\n",
    "\n",
    "def format_docs(docs):\n",
    "    return \"\\n\\n\".join(doc.page_content for doc in docs)\n",
    "\n",
    "#print(prompt)\n",
    "rag_chain = prompt | model1 | StrOutputParser()\n"
   ]
  },
  {
   "cell_type": "code",
   "execution_count": 15,
   "metadata": {
    "colab": {
     "base_uri": "https://localhost:8080/"
    },
    "id": "x8HdkFsZ1pYE",
    "outputId": "dd0dfb9b-bf1f-4545-df9e-055fa0b00e4b"
   },
   "outputs": [
    {
     "name": "stdout",
     "output_type": "stream",
     "text": [
      "A bigram is a sequence of two words, where the probability of the second word is determined by the previous word. It is a type of n-gram, specifically an n-gram of length 2. Bigrams are used in language models to predict the next word in a sequence.\n"
     ]
    }
   ],
   "source": [
    "generation = rag_chain.invoke({\"context\": format_docs(docs), \"question\": question})\n",
    "print(generation)"
   ]
  },
  {
   "cell_type": "markdown",
   "metadata": {
    "id": "NuoOLXCD3dQF"
   },
   "source": [
    "## Question Re-write"
   ]
  },
  {
   "cell_type": "code",
   "execution_count": 16,
   "metadata": {
    "id": "WHXL-n3t3Ouo"
   },
   "outputs": [],
   "source": [
    "\n",
    "system = \"\"\"\n",
    " You are a question re-writer that converts an input question to a better version that is optimized\n",
    "for web search. Look at the input and try to reason about the underlying semantic intent / meaning.\n",
    "Just give only rewritten question Dont give anything explanation.\n",
    "\n",
    "\"\"\"\n",
    "\n",
    "re_write_prompt = ChatPromptTemplate.from_messages(\n",
    "    [\n",
    "        (\"system\",system),\n",
    "        (\"human\",\"Here is the initial question :\\n\\n {question} \\n Formulate an improved question.\",),\n",
    "\n",
    "    ]\n",
    ")\n",
    "\n",
    "question_rewriter = re_write_prompt | model1 | StrOutputParser()"
   ]
  },
  {
   "cell_type": "code",
   "execution_count": 17,
   "metadata": {
    "id": "gEnsr8Cr5Ffl"
   },
   "outputs": [],
   "source": [
    "question = \" what is bigram ?\""
   ]
  },
  {
   "cell_type": "code",
   "execution_count": 18,
   "metadata": {
    "colab": {
     "base_uri": "https://localhost:8080/"
    },
    "id": "qIg2y54t4zC5",
    "outputId": "69d92311-f916-4a68-95d4-b5c46d12149b"
   },
   "outputs": [
    {
     "name": "stdout",
     "output_type": "stream",
     "text": [
      "[Original question]: \" what is bigram ?\"\n",
      "[Query-rewrite]: What is a bigram in natural language processing?\n"
     ]
    }
   ],
   "source": [
    "# Run chain and output results\n",
    "print(f'[Original question]: \"{question}\"')\n",
    "print(\"[Query-rewrite]:\", question_rewriter.invoke({\"question\": question}))"
   ]
  },
  {
   "cell_type": "markdown",
   "metadata": {
    "id": "ifglTe3w5lPG"
   },
   "source": [
    "## Web Search Tool"
   ]
  },
  {
   "cell_type": "code",
   "execution_count": 19,
   "metadata": {
    "colab": {
     "base_uri": "https://localhost:8080/"
    },
    "id": "ndihtZ0v5ShM",
    "outputId": "a0fec5ff-7fdc-478e-f883-3c7da9dfc80c"
   },
   "outputs": [
    {
     "name": "stderr",
     "output_type": "stream",
     "text": [
      "/tmp/ipython-input-19-2978049463.py:2: LangChainDeprecationWarning: The class `TavilySearchResults` was deprecated in LangChain 0.3.25 and will be removed in 1.0. An updated version of the class exists in the :class:`~langchain-tavily package and should be used instead. To use it run `pip install -U :class:`~langchain-tavily` and import as `from :class:`~langchain_tavily import TavilySearch``.\n",
      "  web_search_tool = TavilySearchResults(max_results = 3)\n"
     ]
    }
   ],
   "source": [
    "from langchain.tools.tavily_search import TavilySearchResults\n",
    "web_search_tool = TavilySearchResults(max_results = 3)"
   ]
  },
  {
   "cell_type": "code",
   "execution_count": 20,
   "metadata": {
    "colab": {
     "base_uri": "https://localhost:8080/"
    },
    "id": "oxGduXvi5kR_",
    "outputId": "b1ee886b-0ba8-4b0f-a9f5-601b848122ad"
   },
   "outputs": [
    {
     "name": "stdout",
     "output_type": "stream",
     "text": [
      "[{'title': 'Bigram - Wikipedia', 'url': 'https://en.wikipedia.org/wiki/Bigram', 'content': 'A bigram or digram is a sequence of two adjacent elements from a string \"String (computer science)\") of tokens \"Token (parser)\"), which are typically letters, syllables, or words. A bigram is an _n_-gram for _n_=2.\\n\\nThe frequency distribution of every bigram in a string is commonly used for simple statistical analysis of text in many applications, including in computational linguistics, cryptography, and speech recognition. [...] _Gappy bigrams_ or _skipping bigrams_ are word pairs which allow gaps (perhaps avoiding connecting words, or allowing some simulation of dependencies, as in a dependency grammar).\\n\\nApplications\\n------------\\n\\n[edit]\\n\\nBigrams, along with other n-grams, are used in most successful language models for speech recognition.(\\n\\nBigram frequency attacks can be used in cryptography to solve cryptograms. See frequency analysis \"Frequency analysis (cryptanalysis)\").', 'score': 0.93295}, {'title': 'Bigram - Veritas NLP', 'url': 'https://veritasnlp.com/bigram/', 'content': 'In linguistics, a bigram is simply any two consecutive letters, whether they form words or not. For example, the string “th” is a bigram in the English language, since it appears often in words such as “the,” “this,” and “that.” However, note that the term bigram only applies to letters, and not to numbers or other characters. [...] Bigram is a term used to describe a sequence of two items, usually words. For example, the phrase “I am” would be considered a bigram. Bigrams can be used to disambiguate meaning, since the order of words often changes the meaning of a sentence. For example, consider the bigrams “I am” and “am I”. The first suggests that the speaker is introducing themselves, while the second suggests that the speaker is asking a question. [...] Moreover, bigram is also important in the field of cryptography. A bigram cipher is a type of substitution cipher in which each pair of letters is replaced with another pair of letters. The bigram cipher is an example of a polyalphabetic cipher, which is a type of cipher that uses multiple alphabets.\\n\\nBigram vs. other terms\\n----------------------', 'score': 0.90018827}, {'title': 'Generate bigrams with NLTK - GeeksforGeeks', 'url': 'https://www.geeksforgeeks.org/nlp/generate-bigrams-with-nltk/', 'content': '_Bigrams_, or pairs of consecutive words, are an essential concept in natural language processing (NLP) and computational linguistics. Their utility spans various applications, from enhancing machine learning models to improving language understanding in AI systems. In this article, we are going to learn how bigrams are generated using NLTK library.\\n\\nTable of Content [...] What are Bigrams?\\n   How Bigrams are generated?\\n   Generating Bigrams using NLTK\\n   Applications of Bigrams\\n   FAQs on Bigrams in NLP\\n\\nWhat are Bigrams?\\n-----------------\\n\\nIn a sequence of text, bigrams are pairs of consecutive words or tokens. Bigrams allow us to see which words commonly co-occur within a given dataset, which can be particularly useful for: [...] Language modeling: Language models are statistical models that calculate the likelihood of a sequence of words appearing together in a particular language. Bigrams estimates the probability of one word following another. These models are applied in machine translation, speech recognition among other activities.', 'score': 0.8488849}]\n"
     ]
    }
   ],
   "source": [
    "# Execute web search tool\n",
    "results = web_search_tool.invoke({\"query\": question})\n",
    "print(results)"
   ]
  },
  {
   "cell_type": "markdown",
   "metadata": {
    "id": "D79EnawmIltl"
   },
   "source": [
    "## State\n"
   ]
  },
  {
   "cell_type": "code",
   "execution_count": 21,
   "metadata": {
    "id": "lvT5tkjoIKlE"
   },
   "outputs": [],
   "source": [
    "from typing import Annotated , List , TypedDict\n",
    "\n",
    "class AgentState(TypedDict):\n",
    "  question : Annotated[str,\" The question to answer\"]\n",
    "  generation : Annotated[str , \"The generation from the llm\"]\n",
    "  web_search : Annotated[str , \"Whether to add search\"] # yes or no\n",
    "  documents : Annotated [ List[str] , \" The documents received \"]"
   ]
  },
  {
   "cell_type": "markdown",
   "metadata": {
    "id": "sOqMzdDyIs42"
   },
   "source": [
    "## Node"
   ]
  },
  {
   "cell_type": "code",
   "execution_count": 22,
   "metadata": {
    "id": "8FflU4INIsKv"
   },
   "outputs": [],
   "source": [
    "from langchain.schema import Document\n",
    "\n",
    "def retrieve( state : AgentState) -> AgentState:\n",
    "  print(\"Retrieve\")\n",
    "\n",
    "  question = state[\"question\"]\n",
    "\n",
    "  documents = retriever.invoke(question)\n",
    "  return {\"documents\" : documents}\n",
    "\n",
    "\n",
    "def generate(state : AgentState) -> AgentState:\n",
    "  print( \"Generate\")\n",
    "\n",
    "  question = state[\"question\"]\n",
    "  documents = state[\"documents\"]\n",
    "\n",
    "  generation = rag_chain.invoke({\"context\" : documents ,\"question\" : question })\n",
    "  return {\"generation\" : generation}\n",
    "\n",
    "\n",
    "def grade_documents(state: AgentState)->AgentState:\n",
    "    print(\"\\n CHECK DOCUMENT RELEVANCE TO QUESTION \\n\")\n",
    "    question = state[\"question\"]\n",
    "    documents = state[\"documents\"]\n",
    "\n",
    "    # Filtered documents\n",
    "    filtered_docs = []\n",
    "    relevant_doc_count = 0\n",
    "\n",
    "    for d in documents:\n",
    "        # Evaluate the relevance of Question-Document pairs.\n",
    "        score = retrieval_grader_chain.invoke(\n",
    "            {\"question\": question, \"document\": d.page_content}\n",
    "        )\n",
    "        grade = score\n",
    "\n",
    "        if grade == \"yes\":\n",
    "            print(\" GRADE: DOCUMENT RELEVANT \")\n",
    "            # Add relevant documents to filtered_docs.\n",
    "            filtered_docs.append(d)\n",
    "            relevant_doc_count += 1\n",
    "        else:\n",
    "            print(\" GRADE: DOCUMENT NOT RELEVANT \")\n",
    "            continue\n",
    "\n",
    "    # If no relevant documents are found, perform a web search.\n",
    "    web_search = \"Yes\" if relevant_doc_count == 0 else \"No\"\n",
    "    return {\"documents\": filtered_docs, \"web_search\": web_search}\n",
    "\n",
    "def query_rewrite(state : AgentState) -> AgentState:\n",
    "  print(\" Rewrite Query\")\n",
    "  question = state[\"question\"]\n",
    "  better_question = question_rewriter.invoke({\"question\" : question})\n",
    "  print(better_question)\n",
    "  return {\"question\": better_question}\n",
    "\n",
    "def web_search(state : AgentState) -> AgentState:\n",
    "  print(\"Web Search\")\n",
    "  question = state[\"question\"]\n",
    "  documents = state[\"documents\"]\n",
    "\n",
    "  docs = web_search_tool.invoke({\"query\" : question})\n",
    "\n",
    "  web_results = \"\\n\".join(d[\"content\"] for d in docs)\n",
    "  web_results = Document(page_content = web_results)\n",
    "  documents.append(web_results)\n",
    "\n",
    "  return {\"documents\" : documents}\n",
    "\n",
    "\n",
    "\n"
   ]
  },
  {
   "cell_type": "markdown",
   "metadata": {
    "id": "tXlLesvNJEAp"
   },
   "source": [
    "## Function for conditional edges"
   ]
  },
  {
   "cell_type": "code",
   "execution_count": 23,
   "metadata": {
    "id": "sAWzymUIIqvf"
   },
   "outputs": [],
   "source": [
    "def decide_to_generate(state:AgentState) -> AgentState:\n",
    "  print(\" Assess Graded Documents\")\n",
    "  web_search = state[\"web_search\"]\n",
    "\n",
    "  if web_search == \"Yes\" :\n",
    "    print(\"All Documents are not relevant to question , Query Rewrite\")\n",
    "    return \"query_rewrite\"\n",
    "\n",
    "  else:\n",
    "    print(\"Decision : Generate\")\n",
    "    return \"generate\"\n"
   ]
  },
  {
   "cell_type": "markdown",
   "metadata": {
    "id": "WvubhrbOJONr"
   },
   "source": [
    "## Graph Creation"
   ]
  },
  {
   "cell_type": "code",
   "execution_count": 24,
   "metadata": {
    "id": "2uD11wwHJNIu"
   },
   "outputs": [],
   "source": [
    "from langgraph.graph import END,StateGraph , START\n",
    "\n",
    "graph = StateGraph(AgentState)\n",
    "graph.add_node(\"retrieve\" , retrieve)\n",
    "graph.add_node(\"grade_documents\",grade_documents)\n",
    "graph.add_node(\"generate\" , generate)\n",
    "graph.add_node(\"query_rewrite\" , query_rewrite)\n",
    "graph.add_node(\"web_search_node\" ,web_search)\n",
    "\n",
    "graph.add_edge(START , \"retrieve\")\n",
    "graph.add_edge(\"retrieve\" , \"grade_documents\")\n",
    "\n",
    "graph.add_conditional_edges(\n",
    "    \"grade_documents\",\n",
    "    decide_to_generate,\n",
    "    {\n",
    "        \"query_rewrite\" : \"query_rewrite\",\n",
    "        \"generate\"  : \"generate\",\n",
    "    },\n",
    ")\n",
    "\n",
    "graph.add_edge(\"query_rewrite\",\"web_search_node\")\n",
    "graph.add_edge(\"web_search_node\",\"generate\")\n",
    "graph.add_edge(\"generate\" , END)\n",
    "\n",
    "app = graph.compile()"
   ]
  },
  {
   "cell_type": "code",
   "execution_count": 25,
   "metadata": {
    "colab": {
     "base_uri": "https://localhost:8080/",
     "height": 647
    },
    "id": "gZJAq2URJTaP",
    "outputId": "7b45393b-e2f1-4c2d-90a6-0a7e422723fe"
   },
   "outputs": [
    {
     "data": {
      "image/png": "[encoded data removed]",
      "text/plain": [
       "<IPython.core.display.Image object>"
      ]
     },
     "metadata": {},
     "output_type": "display_data"
    }
   ],
   "source": [
    "from IPython.display import Image, display\n",
    "display(Image(app.get_graph(xray=True).draw_mermaid_png()))"
   ]
  },
  {
   "cell_type": "markdown",
   "metadata": {
    "id": "oIeZozEjJZlX"
   },
   "source": [
    "## Graph Execution\n"
   ]
  },
  {
   "cell_type": "code",
   "execution_count": 27,
   "metadata": {
    "colab": {
     "base_uri": "https://localhost:8080/"
    },
    "id": "nXq6CmvhJU45",
    "outputId": "934ed672-aa82-4cbe-b82d-a491231cee70"
   },
   "outputs": [
    {
     "name": "stdout",
     "output_type": "stream",
     "text": [
      "Retrieve\n",
      "Output from node 'retrieve':\n",
      "\n",
      "---\n",
      "\n",
      "\n",
      " CHECK DOCUMENT RELEVANCE TO QUESTION \n",
      "\n",
      " GRADE: DOCUMENT RELEVANT \n",
      " GRADE: DOCUMENT RELEVANT \n",
      " Assess Graded Documents\n",
      "Decision : Generate\n",
      "Output from node 'grade_documents':\n",
      "\n",
      "---\n",
      "\n",
      "Generate\n",
      "Output from node 'generate':\n",
      "\n",
      "---\n",
      "\n",
      "The Markov assumption in N-grams states that the probability of a word depends only on the previous word. This assumption is used to simplify the computation of word probabilities in N-gram models. It approximates the history of a word by just the last few words.\n"
     ]
    }
   ],
   "source": [
    "from langchain_core.runnables import RunnableConfig\n",
    "from uuid import uuid4\n",
    "\n",
    "config = RunnableConfig(recursion_limit=20 , configurable={\"thread_id\" :uuid4()})\n",
    "\n",
    "input = {\n",
    "    \"question\" : \"What is Markov Assumption in N-grams?\",\n",
    "\n",
    "}\n",
    "\n",
    "for output in app.stream(input , config , stream_mode = \"updates\"):\n",
    "  for key ,value in output.items():\n",
    "    print(f\"Output from node '{key}':\")\n",
    "    #print(value)\n",
    "    print(\"\\n---\\n\")\n",
    "\n",
    "print(value[\"generation\"])\n"
   ]
  }
 ],
 "metadata": {
  "colab": {
   "provenance": []
  },
  "kernelspec": {
   "display_name": "Python 3",
   "name": "python3"
  },
  "language_info": {
   "name": "python"
  }
 },
 "nbformat": 4,
 "nbformat_minor": 0
}
